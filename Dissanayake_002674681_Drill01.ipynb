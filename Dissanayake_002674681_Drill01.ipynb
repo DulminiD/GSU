{
 "cells": [
  {
   "cell_type": "markdown",
   "metadata": {},
   "source": [
    "## Question 1\n"
   ]
  },
  {
   "cell_type": "code",
   "execution_count": 17,
   "metadata": {},
   "outputs": [
    {
     "name": "stdout",
     "output_type": "stream",
     "text": [
      "[[0. 1. 2. 3. 4. 5. 6.]\n",
      " [0. 1. 2. 3. 4. 5. 6.]\n",
      " [0. 1. 2. 3. 4. 5. 6.]\n",
      " [0. 1. 2. 3. 4. 5. 6.]\n",
      " [0. 1. 2. 3. 4. 5. 6.]\n",
      " [0. 1. 2. 3. 4. 5. 6.]\n",
      " [0. 1. 2. 3. 4. 5. 6.]]\n"
     ]
    }
   ],
   "source": [
    "A = np.arange(0,7)\n",
    "\n",
    "B = np.zeros((7,7), dtype= 'float32')\n",
    "\n",
    "print(A+B)"
   ]
  },
  {
   "cell_type": "markdown",
   "metadata": {},
   "source": [
    "## Question 2"
   ]
  },
  {
   "cell_type": "code",
   "execution_count": 20,
   "metadata": {},
   "outputs": [
    {
     "name": "stdout",
     "output_type": "stream",
     "text": [
      "[[ 6  7  8]\n",
      " [ 7  8  9]\n",
      " [ 8  9 10]\n",
      " [ 9 10 11]]\n"
     ]
    }
   ],
   "source": [
    "import numpy as np\n",
    "from numpy.lib import stride_tricks\n",
    "\n",
    "A = np.arange(6,12)\n",
    "\n",
    "frame_length = 3\n",
    "\n",
    "B = stride_tricks.sliding_window_view(A, frame_length)\n",
    "\n",
    "print(B)\n"
   ]
  },
  {
   "cell_type": "markdown",
   "metadata": {},
   "source": [
    "## Question 3"
   ]
  },
  {
   "cell_type": "code",
   "execution_count": null,
   "metadata": {},
   "outputs": [],
   "source": [
    "Stochastic Gradient Descend (SGD) chooses up a \"random\" instance of training data at each step to calculate the gradient, \n",
    "which is significantly faster than Batch Gradient Descend because there is much less data to handle.\n",
    "Therefore SGD saves time compared to Standard Gradient Descend. \n",
    "\n",
    "If the amount of data is large the batch gradient descend is expensive. Therefore the SGD is preffered for training large\n",
    "data. So currently there is no better method than SGD. \n",
    "\n",
    "\n"
   ]
  }
 ],
 "metadata": {
  "kernelspec": {
   "display_name": "Python 3",
   "language": "python",
   "name": "python3"
  },
  "language_info": {
   "codemirror_mode": {
    "name": "ipython",
    "version": 3
   },
   "file_extension": ".py",
   "mimetype": "text/x-python",
   "name": "python",
   "nbconvert_exporter": "python",
   "pygments_lexer": "ipython3",
   "version": "3.8.5"
  }
 },
 "nbformat": 4,
 "nbformat_minor": 4
}
